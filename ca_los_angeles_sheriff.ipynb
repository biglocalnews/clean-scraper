{
 "cells": [
  {
   "cell_type": "code",
   "execution_count": 96,
   "id": "1191deb7",
   "metadata": {},
   "outputs": [],
   "source": [
    "# from pyquery import PyQuery as pq\n",
    "import requests\n",
    "from tqdm import tqdm\n",
    "\n",
    "import json\n",
    "import os\n",
    "from pathlib import Path\n",
    "from typing import List\n",
    "\n",
    "# from urllib.parse import urlparse\n",
    "\n",
    "\n",
    "# import time\n",
    "# import urllib.parse\n",
    "\n",
    "\n",
    "from clean import utils\n",
    "from clean.cache import Cache\n"
   ]
  },
  {
   "cell_type": "code",
   "execution_count": 43,
   "id": "b37658e2",
   "metadata": {},
   "outputs": [],
   "source": [
    "class Site:\n",
    "    name = \"Los Angeles Sheriff's Department\"\n",
    "\n",
    "    def __init__(self, data_dir=utils.CLEAN_DATA_DIR, cache_dir=utils.CLEAN_CACHE_DIR):\n",
    "        self.base_url = \"https://lasd.org/\"\n",
    "        self.disclosure_url = (\n",
    "            f\"https://lasdsb1421.powerappsportals.us/\"\n",
    "        )\n",
    "        self.data_dir = data_dir\n",
    "        self.cache_dir = cache_dir\n",
    "        self.cache = Cache(cache_dir)\n"
   ]
  },
  {
   "cell_type": "code",
   "execution_count": 48,
   "id": "31a957ed",
   "metadata": {},
   "outputs": [
    {
     "data": {
      "text/plain": [
       "WindowsPath('C:/Users/stuck/.clean-scraper/cache')"
      ]
     },
     "execution_count": 48,
     "metadata": {},
     "output_type": "execute_result"
    }
   ],
   "source": [
    "site = Site()\n",
    "site.cache_dir"
   ]
  },
  {
   "cell_type": "code",
   "execution_count": 189,
   "id": "6fd32b74",
   "metadata": {},
   "outputs": [],
   "source": [
    "# A bunch of this code needs to work with non-standard implementations to process files and URLs.\n",
    "\n",
    "siteslug = \"los_angeles_county_sheriff\"\n",
    "\n",
    "cache_dir = site.cache_dir\n",
    "data_dir = site.data_dir\n",
    "\n",
    "for localdir in [cache_dir, data_dir]:\n",
    "    utils.create_directory(localdir)"
   ]
  },
  {
   "cell_type": "code",
   "execution_count": 190,
   "id": "d19e5734",
   "metadata": {},
   "outputs": [],
   "source": [
    "filestoignore = [\"index\", \"timestamplog\", siteslug]     # What cached JSON files aren't page-level JSONs?"
   ]
  },
  {
   "cell_type": "code",
   "execution_count": 170,
   "id": "5c9082d9",
   "metadata": {},
   "outputs": [],
   "source": [
    "rooturl = \"https://lasdsb1421.powerappsportals.us\""
   ]
  },
  {
   "cell_type": "code",
   "execution_count": 105,
   "id": "808a0d8d",
   "metadata": {},
   "outputs": [],
   "source": [
    "indexjsonurl = 'https://lasdsb1421.powerappsportals.us/_services/entity-grid-data.json/f46b70cc-580b-4f1a-87c3-41deb48eb90d'\n",
    "indexrequestheaders = {\n",
    "    \"__requestverificationtoken\": \"kV60zFyBJ_k-mjeiu_6NIKgUlvNWfcwZ9_D29bWM84LeQ5-hNWPjAvr1VVehyAmYc2Cyp9edrQaHD-AKr4duQQPWGxPKvb0mCDZIXIY68NM1\",\n",
    "    \"accept\": \"application/json, text/javascript, */*; q=0.01\",\n",
    "    \"accept-language\": \"en-US,en;q=0.9\",\n",
    "    \"content-type\": \"application/json; charset=UTF-8\",\n",
    "    \"cookie\": \"Dynamics365PortalAnalytics=WfAhGy4JV13-E0dhKke0kztJdjYVyjtsY_vFGiSDZAN-KN83-o4lKIwHCj6Rgfuge-xA4zygTbU6OSjgoo1yp5Kw_JU9nd9NHo4FJPYh3DgEYMm16_293HSPMmfYEaGcT7Cw0h4zw3dIqO8J0A3xPw2; ASP.NET_SessionId=djn0vjtl3u2sagzyduk23cab; ARRAffinity=254b55dea5200c22439ddc2bd303a9f6d5189518bb2c795f872095b53e417c82; ARRAffinitySameSite=254b55dea5200c22439ddc2bd303a9f6d5189518bb2c795f872095b53e417c82; timezoneoffset=240; isDSTSupport=true; isDSTObserved=true; ContextLanguageCode=en-US; __RequestVerificationToken=PXUpizhW17-bet0Sh6T6F_W58jnEZDYJXOqylnNVXsykXoWqoLgcYYn2BWOhWpmBhbHqNJJbPujincEmcn0ZBHak6MOK0CifmoNBtxE5ofY1; timeZoneCode=35\",\n",
    "    \"origin\": \"https://lasdsb1421.powerappsportals.us\",\n",
    "    \"priority\": \"u=1, i\",\n",
    "    \"referer\": \"https://lasdsb1421.powerappsportals.us/dis/\",\n",
    "    \"request-id\": \"|5c4f7bc1c8ca42d9901887a721e67944.46457b1429534d7b\",\n",
    "    'sec-ch-ua': '\"Not/A)Brand\";v=\"8\", \"Chromium\";v=\"126\", \"Google Chrome\";v=\"126\"',\n",
    "    'sec-ch-ua-mobile': '?0',\n",
    "    'sec-ch-ua-platform': '\"Windows\"',\n",
    "    'sec-fetch-dest': 'empty',\n",
    "    'sec-fetch-mode': 'cors',\n",
    "    'sec-fetch-site': 'same-origin',\n",
    "    'traceparent': '00-5c4f7bc1c8ca42d9901887a721e67944-46457b1429534d7b-01',\n",
    "    'user-agent': 'Mozilla/5.0 (Windows NT 10.0; Win64; x64) AppleWebKit/537.36 (KHTML, like Gecko) Chrome/126.0.0.0 Safari/537.36',\n",
    "    'x-requested-with': 'XMLHttpRequest',\n",
    "}"
   ]
  },
  {
   "cell_type": "code",
   "execution_count": 106,
   "id": "60730e01",
   "metadata": {},
   "outputs": [],
   "source": [
    "indexpayload ='{\"base64SecureConfiguration\":\"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\",\"sortExpression\":\"sb1421_eventdate ASC\",\"search\":\"\",\"page\":1,\"pageSize\":9999,\"pagingCookie\":\"\",\"filter\":null,\"metaFilter\":null,\"timezoneOffset\":240,\"customParameters\":[]}'"
   ]
  },
  {
   "cell_type": "code",
   "execution_count": 115,
   "id": "38613c91",
   "metadata": {},
   "outputs": [],
   "source": [
    "detailrequestheaders = { \n",
    "    \"User-Agent\": \"Mozilla/5.0 (Windows NT 10.0; Win64; x64; rv:128.0) Gecko/20100101 Firefox/128.0\",\n",
    "    \"Accept\": \"application/json, text/javascript, */*; q=0.01\",\n",
    "    \"Accept-Language\": \"en-US,en;q=0.5\",\n",
    "    \"Accept-Encoding\": \"gzip, deflate, br, zstd\",\n",
    "    \"Content-Type\": \"application/json\",\n",
    "    \"__RequestVerificationToken\": \"eHcTqQbCi1LqT2xhe50AZS-IY_4JPB6S-WOyeZ_43BorhlZfHO77Q69jKWO3bctuMtKNHSjY_SxQmKCmC0G2N8vhr-3KKu8cOa4GJ15NgOE1\",\n",
    "    \"X-Requested-With\": \"XMLHttpRequest\",\n",
    "    \"Request-Id\": \"^|180fc898383b4cdea9562818e9ccb2f0.6971a699587e4f02\",\n",
    "    \"traceparent\": \"00-180fc898383b4cdea9562818e9ccb2f0-6971a699587e4f02-01\",\n",
    "    \"Origin\": \"https://lasdsb1421.powerappsportals.us\",\n",
    "    \"Connection\": \"keep-alive\",\n",
    "    \"Referer\": \"https://lasdsb1421.powerappsportals.us/disfiles/?id=13434aab-ab8b-ed11-81ad-001dd830a125\",\n",
    "    \"Cookie\": \"Dynamics365PortalAnalytics=I96I2Tvt4N-gPaURejqoFAgdfpCOkV7mfdXsXEgZZq8CooQCFX8ewO5C6tTxgHKGjV8Nqh30acufK6AFfDtdV_SivR7HLAZg5f476jxkzB394E5aPLo8PDI_xXsBmLWgXb5Sf28dZJ2CxuI4re7ZEA2; ASP.NET_SessionId=2k2vrqpb53tklzcqz0ftqqyy; ARRAffinity=254b55dea5200c22439ddc2bd303a9f6d5189518bb2c795f872095b53e417c82; ARRAffinitySameSite=254b55dea5200c22439ddc2bd303a9f6d5189518bb2c795f872095b53e417c82; timezoneoffset=240; isDSTSupport=true; isDSTObserved=true; ContextLanguageCode=en-US; timeZoneCode=35; __RequestVerificationToken=Y4mVGr7Dq1OfgQav9ztK4nDJNNtdU450gGRn6puub7-qbXeiwIiFBzyn-ZFIiwLgFTh13dMhEtTlTXdIUiXIlVaAKO9XENzlm-qMbNC5Egg1\",\n",
    "    \"Sec-Fetch-Dest\": \"empty\",\n",
    "    \"Sec-Fetch-Mode\": \"cors\",\n",
    "    \"Sec-Fetch-Site\": \"same-origin\",\n",
    "    \"TE\": \"trailers\",\n",
    "    }"
   ]
  },
  {
   "cell_type": "code",
   "execution_count": 146,
   "id": "df4eeb96",
   "metadata": {},
   "outputs": [],
   "source": [
    "detailpayload = '{\"regarding\":{\"Id\":\"IDGOESHERE\",\"LogicalName\":\"sb1421_sb1421responsiverecords\",\"Name\":null,\"KeyAttributes\":[],\"RowVersion\":null},\"sortExpression\":\"FileLeafRef ASC\",\"page\":1,\"pageSize\":9990,\"folderPath\":\"\"}'"
   ]
  },
  {
   "cell_type": "code",
   "execution_count": 58,
   "id": "2dfc77c4",
   "metadata": {},
   "outputs": [],
   "source": [
    "r = requests.post(indexjsonurl, headers=indexrequestheaders, data=indexpayload)"
   ]
  },
  {
   "cell_type": "code",
   "execution_count": 56,
   "id": "f792b440",
   "metadata": {},
   "outputs": [],
   "source": [
    "with open(cache_dir / \"index.json\", \"wb\") as outfile:\n",
    "    outfile.write(r.content)"
   ]
  },
  {
   "cell_type": "code",
   "execution_count": 16,
   "id": "36ccb9f8",
   "metadata": {},
   "outputs": [],
   "source": [
    "with open(\"index.json\", \"r\", encoding=\"utf-8\") as infile:\n",
    "    rawindex = json.load(infile)"
   ]
  },
  {
   "cell_type": "code",
   "execution_count": 29,
   "id": "1336c69f",
   "metadata": {},
   "outputs": [
    {
     "name": "stdout",
     "output_type": "stream",
     "text": [
      "1,454 records found.\n"
     ]
    }
   ],
   "source": [
    "if rawindex['MoreRecords'] or len(rawindex['Records']) != rawindex['ItemCount']:\n",
    "    print(f\"Index JSON is incomplete or broken.\")\n",
    "else:\n",
    "    print(f\"{rawindex['ItemCount']:,} records found.\")"
   ]
  },
  {
   "cell_type": "code",
   "execution_count": 30,
   "id": "5f0e8f4d",
   "metadata": {},
   "outputs": [],
   "source": [
    "for record in rawindex['Records']:\n",
    "    if record['Id'] == \"e2c722aa-d0e0-ee11-904d-001dd809c772\":\n",
    "        break"
   ]
  },
  {
   "cell_type": "code",
   "execution_count": 41,
   "id": "66c77e5c",
   "metadata": {},
   "outputs": [],
   "source": [
    "timestamp = \"\"\n",
    "for entry in record['Attributes']:\n",
    "    timestamp += entry['AttributeMetadata']['ModifiedOn']"
   ]
  },
  {
   "cell_type": "code",
   "execution_count": 53,
   "id": "572158c8",
   "metadata": {},
   "outputs": [
    {
     "data": {
      "text/plain": [
       "WindowsPath('C:/Users/stuck/.clean-scraper/cache/index.json')"
      ]
     },
     "execution_count": 53,
     "metadata": {},
     "output_type": "execute_result"
    }
   ],
   "source": [
    "cache_dir / \"index.json\""
   ]
  },
  {
   "cell_type": "code",
   "execution_count": 64,
   "id": "8cab26fe",
   "metadata": {},
   "outputs": [],
   "source": [
    "recordid = \"e2c722aa-d0e0-ee11-904d-001dd809c772\""
   ]
  },
  {
   "cell_type": "code",
   "execution_count": 75,
   "id": "9cce88e9",
   "metadata": {},
   "outputs": [],
   "source": [
    "def build_timestamps(indexjson: dict):\n",
    "    indextimes = {}\n",
    "    for record in rawindex['Records']:\n",
    "        recordid = record['Id']\n",
    "        timestamp = \"\"\n",
    "        for entry in record['Attributes']:\n",
    "            timestamp += entry['AttributeMetadata']['ModifiedOn']\n",
    "        indextimes[recordid] = timestamp\n",
    "    return(indextimes)"
   ]
  },
  {
   "cell_type": "code",
   "execution_count": 88,
   "id": "bcadcd24",
   "metadata": {},
   "outputs": [],
   "source": [
    "def fetch_old_timestamps():\n",
    "    filename = \"timestamplog.json\"\n",
    "    if site.cache.exists(\"timestamplog.json\"):\n",
    "        with open(filename, \"r\", encoding=\"utf-8\") as infile:\n",
    "            oldtimestamps = json.load(infile)\n",
    "    else:\n",
    "        oldtimestamps = {}\n",
    "    return(oldtimestamps)"
   ]
  },
  {
   "cell_type": "code",
   "execution_count": 154,
   "id": "e81123f5",
   "metadata": {},
   "outputs": [],
   "source": [
    "def save_timestamps(indextimestamps):\n",
    "    with open(cache_dir / \"timestamplog.json\", \"w\", encoding=\"utf-8\") as outfile:\n",
    "        outfile.write(json.dumps(indextimestamps))\n",
    "    return"
   ]
  },
  {
   "cell_type": "code",
   "execution_count": 150,
   "id": "ea60048e",
   "metadata": {},
   "outputs": [],
   "source": [
    "def get_detail_json(recordid: str):\n",
    "    referer = \"https://lasdsb1421.powerappsportals.us/disfiles/?id=\" + recordid\n",
    "    detailrequestheaders['Referer'] = referer\n",
    "    localpayload = detailpayload\n",
    "    localpayload = detailpayload.replace(\"IDGOESHERE\", recordid)\n",
    "    # detailpayload[\"regarding\"][\"Id\"] = recordid\n",
    "    targeturl = \"https://lasdsb1421.powerappsportals.us/_services/sharepoint-data.json/\" + recordid\n",
    "    targetfilename = cache_dir / (recordid + \".json\")\n",
    "    r = requests.post(targeturl, headers=detailrequestheaders, data=localpayload)\n",
    "    if not r.ok:\n",
    "        print(f\"Problem downloading detail JSON for {recordid}\")\n",
    "    else:\n",
    "        with open(targetfilename, \"wb\") as outfile:\n",
    "            outfile.write(r.content)"
   ]
  },
  {
   "cell_type": "code",
   "execution_count": 151,
   "id": "567cce6f",
   "metadata": {},
   "outputs": [],
   "source": [
    "get_detail_json(recordid)"
   ]
  },
  {
   "cell_type": "code",
   "execution_count": 138,
   "id": "92a276de",
   "metadata": {},
   "outputs": [],
   "source": [
    "def pretty_print_POST(req):\n",
    "    \"\"\"\n",
    "    At this point it is completely built and ready\n",
    "    to be fired; it is \"prepared\".\n",
    "\n",
    "    However pay attention at the formatting used in \n",
    "    this function because it is programmed to be pretty \n",
    "    printed and may differ from the actual request.\n",
    "    \"\"\"\n",
    "    print('{}\\n{}\\r\\n{}\\r\\n\\r\\n{}'.format(\n",
    "        '-----------START-----------',\n",
    "        req.method + ' ' + req.url,\n",
    "        '\\r\\n'.join('{}: {}'.format(k, v) for k, v in req.headers.items()),\n",
    "        req.body,\n",
    "    ))\n"
   ]
  },
  {
   "cell_type": "code",
   "execution_count": 147,
   "id": "8c7ad2c3",
   "metadata": {},
   "outputs": [],
   "source": []
  },
  {
   "cell_type": "code",
   "execution_count": null,
   "id": "3742af0a",
   "metadata": {},
   "outputs": [],
   "source": []
  },
  {
   "cell_type": "code",
   "execution_count": 148,
   "id": "b0153c31",
   "metadata": {},
   "outputs": [
    {
     "data": {
      "text/plain": [
       "b'{\"SharePointItems\":[{\"Id\":4050,\"Name\":\"SH2594065 - Case - Public.pdf\",\"CreatedOn\":\"\\\\/Date(1710289752000)\\\\/\",\"CreatedOnDisplay\":\"Wed, 13 Mar 2024 00:29:12 GMT\",\"ModifiedOn\":\"\\\\/Date(1710289752000)\\\\/\",\"ModifiedOnDisplay\":\"Wed, 13 Mar 2024 00:29:12 GMT\",\"FileSize\":1422541,\"FileSizeDisplay\":\"1389 KB\",\"FolderPath\":null,\"IsFolder\":false,\"IsParent\":null,\"Url\":\"/_entity/sharepointdocumentlocation/edc722aa-d0e0-ee11-904d-001dd809c772/f46b70cc-580b-4f1a-87c3-41deb48eb90d?file=SH2594065%20-%20Case%20-%20Public.pdf\"}],\"PageSize\":9990,\"PageNumber\":1,\"PagingInfo\":null,\"TotalCount\":1,\"AccessDenied\":false,\"ConfigError\":false}'"
      ]
     },
     "execution_count": 148,
     "metadata": {},
     "output_type": "execute_result"
    }
   ],
   "source": [
    "r.content"
   ]
  },
  {
   "cell_type": "code",
   "execution_count": 140,
   "id": "68e424c9",
   "metadata": {},
   "outputs": [],
   "source": [
    "#    r = requests.post(targeturl, headers=detailrequestheaders, data=detailpayload)\n",
    "r = requests.Request(\"POST\", targeturl, headers=detailrequestheaders, data=localpayload)\n",
    "prepared = r.prepare()"
   ]
  },
  {
   "cell_type": "code",
   "execution_count": 141,
   "id": "8c269a6e",
   "metadata": {},
   "outputs": [
    {
     "name": "stdout",
     "output_type": "stream",
     "text": [
      "-----------START-----------\n",
      "POST https://lasdsb1421.powerappsportals.us/_services/sharepoint-data.json/e2c722aa-d0e0-ee11-904d-001dd809c772\r\n",
      "User-Agent: Mozilla/5.0 (Windows NT 10.0; Win64; x64; rv:128.0) Gecko/20100101 Firefox/128.0\r\n",
      "Accept: application/json, text/javascript, */*; q=0.01\r\n",
      "Accept-Language: en-US,en;q=0.5\r\n",
      "Accept-Encoding: gzip, deflate, br, zstd\r\n",
      "Content-Type: application/json\r\n",
      "__RequestVerificationToken: eHcTqQbCi1LqT2xhe50AZS-IY_4JPB6S-WOyeZ_43BorhlZfHO77Q69jKWO3bctuMtKNHSjY_SxQmKCmC0G2N8vhr-3KKu8cOa4GJ15NgOE1\r\n",
      "X-Requested-With: XMLHttpRequest\r\n",
      "Request-Id: ^|180fc898383b4cdea9562818e9ccb2f0.6971a699587e4f02\r\n",
      "traceparent: 00-180fc898383b4cdea9562818e9ccb2f0-6971a699587e4f02-01\r\n",
      "Origin: https://lasdsb1421.powerappsportals.us\r\n",
      "Connection: keep-alive\r\n",
      "Referer: https://lasdsb1421.powerappsportals.us/disfiles/?id=e2c722aa-d0e0-ee11-904d-001dd809c772\r\n",
      "Cookie: Dynamics365PortalAnalytics=I96I2Tvt4N-gPaURejqoFAgdfpCOkV7mfdXsXEgZZq8CooQCFX8ewO5C6tTxgHKGjV8Nqh30acufK6AFfDtdV_SivR7HLAZg5f476jxkzB394E5aPLo8PDI_xXsBmLWgXb5Sf28dZJ2CxuI4re7ZEA2; ASP.NET_SessionId=2k2vrqpb53tklzcqz0ftqqyy; ARRAffinity=254b55dea5200c22439ddc2bd303a9f6d5189518bb2c795f872095b53e417c82; ARRAffinitySameSite=254b55dea5200c22439ddc2bd303a9f6d5189518bb2c795f872095b53e417c82; timezoneoffset=240; isDSTSupport=true; isDSTObserved=true; ContextLanguageCode=en-US; timeZoneCode=35; __RequestVerificationToken=Y4mVGr7Dq1OfgQav9ztK4nDJNNtdU450gGRn6puub7-qbXeiwIiFBzyn-ZFIiwLgFTh13dMhEtTlTXdIUiXIlVaAKO9XENzlm-qMbNC5Egg1\r\n",
      "Sec-Fetch-Dest: empty\r\n",
      "Sec-Fetch-Mode: cors\r\n",
      "Sec-Fetch-Site: same-origin\r\n",
      "TE: trailers\r\n",
      "Content-Length: 228\r\n",
      "\r\n",
      "{\"regarding\":{\"Id\":\"e2c722aa-d0e0-ee11-904d-001dd809c772\",\"LogicalName\":\"sb1421_sb1421responsiverecords\",\"Name\":null,\"KeyAttributes\":[],\"RowVersion\":null},\"sortExpression\":\"FileLeafRef ASC\",\"page\":1,\"pageSize\":4,\"folderPath\":\"\"}\n"
     ]
    }
   ],
   "source": [
    "pretty_print_POST(prepared)"
   ]
  },
  {
   "cell_type": "code",
   "execution_count": 131,
   "id": "18315681",
   "metadata": {},
   "outputs": [
    {
     "data": {
      "text/plain": [
       "500"
      ]
     },
     "execution_count": 131,
     "metadata": {},
     "output_type": "execute_result"
    }
   ],
   "source": [
    "r.status_code"
   ]
  },
  {
   "cell_type": "code",
   "execution_count": 78,
   "id": "c7c1d648",
   "metadata": {},
   "outputs": [],
   "source": [
    "indextimes = build_timestamps(rawindex)"
   ]
  },
  {
   "cell_type": "code",
   "execution_count": 90,
   "id": "94cdbe11",
   "metadata": {},
   "outputs": [],
   "source": [
    "oldtimestamps = fetch_old_timestamps()"
   ]
  },
  {
   "cell_type": "code",
   "execution_count": 79,
   "id": "a351d068",
   "metadata": {},
   "outputs": [
    {
     "data": {
      "text/plain": [
       "'/Date(1703605392533)//Date(1698546415967)//Date(1698546511140)//Date(1703605392797)//Date(1698546487610)//Date(1698546500937)//Date(1698546494967)//Date(1703605391750)/'"
      ]
     },
     "execution_count": 79,
     "metadata": {},
     "output_type": "execute_result"
    }
   ],
   "source": [
    "indextimes[recordid]"
   ]
  },
  {
   "cell_type": "code",
   "execution_count": 156,
   "id": "78fa55ec",
   "metadata": {},
   "outputs": [],
   "source": [
    "def build_detail_file_list():\n",
    "    cachefiles = site.cache.files()                           # Prefect?\n",
    "    recordsdownloaded = set()\n",
    "    for cachefile in cachefiles:\n",
    "        corefilename = cachefile.replace(\"\\\\\", \"/\").split(\"/\")[-1].replace(\".json\", \"\")\n",
    "        if corefilename not in filestoignore:\n",
    "            recordsdownloaded.add(corefilename)\n",
    "    return(recordsdownloaded)"
   ]
  },
  {
   "cell_type": "code",
   "execution_count": 157,
   "id": "a83d1e1f",
   "metadata": {},
   "outputs": [],
   "source": [
    "def build_detail_todo(indextimes, oldtimestamps):\n",
    "    todo = set()\n",
    "    recordsdownloaded = build_detail_file_list()    \n",
    "    for recordid in indextimes:\n",
    "        if recordid not in recordsdownloaded:\n",
    "            todo.add(recordid)    \n",
    "        elif recordid not in oldtimestamps:\n",
    "            todo.add(recordid)\n",
    "        elif indextimes[recordid] != oldtimestamps[recordid]:    # If something got modified, maybe\n",
    "                todo.add(recordid)\n",
    "    print(f\"{len(todo):,} subpages to download\")\n",
    "    return(todo)"
   ]
  },
  {
   "cell_type": "code",
   "execution_count": 100,
   "id": "b49b8e04",
   "metadata": {},
   "outputs": [],
   "source": [
    "def fetch_detail_pages(detailtodo):\n",
    "    for recordid in tqdm(detailtodo):\n",
    "        get_detail_json(recordid)"
   ]
  },
  {
   "cell_type": "code",
   "execution_count": 101,
   "id": "8cd8aaa6",
   "metadata": {},
   "outputs": [
    {
     "name": "stdout",
     "output_type": "stream",
     "text": [
      "1,454 subpages to download\n"
     ]
    }
   ],
   "source": [
    "detailtodo = build_detail_todo(indextimes, oldtimestamps)"
   ]
  },
  {
   "cell_type": "code",
   "execution_count": 152,
   "id": "912093bd",
   "metadata": {},
   "outputs": [
    {
     "name": "stderr",
     "output_type": "stream",
     "text": [
      "100%|██████████████████████████████████████████████████████████████████████████████| 1454/1454 [25:05<00:00,  1.04s/it]\n"
     ]
    }
   ],
   "source": [
    "fetch_detail_pages(detailtodo)"
   ]
  },
  {
   "cell_type": "code",
   "execution_count": 155,
   "id": "a24f1f9b",
   "metadata": {},
   "outputs": [],
   "source": [
    "# Save the timestamps so we can see if they've changed\n",
    "save_timestamps(indextimes)"
   ]
  },
  {
   "cell_type": "code",
   "execution_count": 183,
   "id": "053f1ccd",
   "metadata": {},
   "outputs": [],
   "source": [
    "def list_assets():\n",
    "    assetlist = []\n",
    "    recordsdownloaded = build_detail_file_list()\n",
    "    for recordid in recordsdownloaded:\n",
    "        sourcefile = cache_dir / (recordid + \".json\")\n",
    "        with open(sourcefile, \"r\", encoding=\"utf-8\") as infile:\n",
    "            localjson = json.load(infile)\n",
    "        for asset in localjson['SharePointItems']:\n",
    "            line = {}\n",
    "            line['title'] = asset['Name']\n",
    "            line['parent_page'] = str(sourcefile).replace(\"\\\\\", \"/\").split(\"/\")[-1]\n",
    "            line['asset_url'] = rooturl + asset['Url']\n",
    "            line['name'] = asset['Name']\n",
    "            line['file_size'] = asset['FileSize']\n",
    "            line['date_modified']  = asset['ModifiedOnDisplay']\n",
    "            line['date_created'] = asset['CreatedOnDisplay']\n",
    "        assetlist.append(line)\n",
    "    return(assetlist)"
   ]
  },
  {
   "cell_type": "code",
   "execution_count": 191,
   "id": "856b90f2",
   "metadata": {},
   "outputs": [],
   "source": [
    "assetlist = list_assets()\n",
    "with open(cache_dir / (siteslug + \".json\"), \"w\", encoding=\"utf-8\") as outfile:\n",
    "    outfile.write(json.dumps(assetlist, indent=4*' '))"
   ]
  },
  {
   "cell_type": "code",
   "execution_count": 188,
   "id": "bce09329",
   "metadata": {},
   "outputs": [
    {
     "name": "stdout",
     "output_type": "stream",
     "text": [
      "7,242,403,686\n"
     ]
    }
   ],
   "source": [
    "tally = 0\n",
    "for asset in assetlist:\n",
    "    tally += asset['file_size']\n",
    "print(f\"{tally:,}\")"
   ]
  },
  {
   "cell_type": "raw",
   "id": "31c65760",
   "metadata": {},
   "source": [
    "General workflow idea ...\n",
    "\n",
    "Get the new index file\n",
    "If the old timestamp index exists, get it; otherwise make an empty dictionary\n",
    "If the recordid does not exist in the old timestamp file, or if the timestamp has changed, we need to add it to a queue for downloading, force = True\n",
    "For each of the files in the queue, download\n",
    "\n",
    "For each of those processed files that aren't in filestoignore, "
   ]
  }
 ],
 "metadata": {
  "kernelspec": {
   "display_name": "Python 3 (ipykernel)",
   "language": "python",
   "name": "python3"
  },
  "language_info": {
   "codemirror_mode": {
    "name": "ipython",
    "version": 3
   },
   "file_extension": ".py",
   "mimetype": "text/x-python",
   "name": "python",
   "nbconvert_exporter": "python",
   "pygments_lexer": "ipython3",
   "version": "3.10.6"
  }
 },
 "nbformat": 4,
 "nbformat_minor": 5
}
