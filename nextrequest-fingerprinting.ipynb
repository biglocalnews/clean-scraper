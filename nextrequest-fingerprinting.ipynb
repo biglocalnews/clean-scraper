{
 "cells": [
  {
   "cell_type": "code",
   "execution_count": 1,
   "id": "277051db",
   "metadata": {},
   "outputs": [],
   "source": [
    "from urllib.parse import parse_qs, urlparse"
   ]
  },
  {
   "cell_type": "code",
   "execution_count": 17,
   "id": "bb7cdf9b",
   "metadata": {},
   "outputs": [],
   "source": [
    "start_url = \"https://lacity.nextrequest.com/documents?folder_filter=F040-22\""
   ]
  },
  {
   "cell_type": "code",
   "execution_count": 18,
   "id": "6b557088",
   "metadata": {},
   "outputs": [
    {
     "data": {
      "text/plain": [
       "ParseResult(scheme='https', netloc='lacity.nextrequest.com', path='/documents', params='', query='folder_filter=F040-22', fragment='')"
      ]
     },
     "execution_count": 18,
     "metadata": {},
     "output_type": "execute_result"
    }
   ],
   "source": [
    "urlparse(start_url)"
   ]
  },
  {
   "cell_type": "code",
   "execution_count": 11,
   "id": "cd337699",
   "metadata": {},
   "outputs": [
    {
     "data": {
      "text/plain": [
       "'/documents'"
      ]
     },
     "execution_count": 11,
     "metadata": {},
     "output_type": "execute_result"
    }
   ],
   "source": [
    "urlparse(start_url).path"
   ]
  },
  {
   "cell_type": "code",
   "execution_count": 12,
   "id": "ea9351e4",
   "metadata": {},
   "outputs": [],
   "source": [
    "start_url = \"https://cityofnationalcityca.nextrequest.com/requests/23-120\""
   ]
  },
  {
   "cell_type": "code",
   "execution_count": 13,
   "id": "797d5429",
   "metadata": {},
   "outputs": [
    {
     "data": {
      "text/plain": [
       "ParseResult(scheme='https', netloc='cityofnationalcityca.nextrequest.com', path='/requests/23-120', params='', query='', fragment='')"
      ]
     },
     "execution_count": 13,
     "metadata": {},
     "output_type": "execute_result"
    }
   ],
   "source": [
    "urlparse(start_url)"
   ]
  },
  {
   "cell_type": "code",
   "execution_count": 14,
   "id": "e3503a1c",
   "metadata": {},
   "outputs": [
    {
     "data": {
      "text/plain": [
       "'/requests/23-120'"
      ]
     },
     "execution_count": 14,
     "metadata": {},
     "output_type": "execute_result"
    }
   ],
   "source": [
    "urlparse(start_url).path"
   ]
  },
  {
   "cell_type": "code",
   "execution_count": 15,
   "id": "755f69ac",
   "metadata": {},
   "outputs": [
    {
     "data": {
      "text/plain": [
       "['', 'requests', '23-120']"
      ]
     },
     "execution_count": 15,
     "metadata": {},
     "output_type": "execute_result"
    }
   ],
   "source": [
    "urlparse(start_url).path.split(\"/\")"
   ]
  },
  {
   "cell_type": "code",
   "execution_count": 20,
   "id": "33a0971e",
   "metadata": {},
   "outputs": [],
   "source": [
    "line = None\n",
    "parsed_url = urlparse(start_url)\n",
    "if parsed_url.path == \"/documents\":\n",
    "    line = {\n",
    "        \"sitetype\": \"lapdish\",\n",
    "        \"base_url\": f\"{parsed_url.scheme}://{parsed_url.netloc}\",\n",
    "        \"folder_id\": parse_qs(parsed_url.query)[\"folder_filter\"][0],\n",
    "        \"page_size\": 50,\n",
    "        \"tally_field\": \"total_count\",\n",
    "        \"details\": {\n",
    "            \n",
    "            \n",
    "        },\n",
    "    }\n",
    "    line['json_url'] = f\"{line['base_url']}/client/documents?sort_field=count&sort_order=desc&page_size=50&folder_filter={line['folder_id']}&page_number=\"\n",
    "elif len(parsed_url.path.split('/')) == 3 and parsed_url.path.split('/')[1] == \"requests\":\n",
    "    line = {\n",
    "        \"sitetype\": \"bartish\",\n",
    "        \"base_url\": f\"{parsed_url.scheme}://{parsed_url.netloc}\",\n",
    "        \"folder_id\": urlparse(start_url).path.split(\"/\")[2],\n",
    "        \"page_size\": 25,\n",
    "        \"tally_field\": \"total_documents_count\",\n",
    "\n",
    "    }\n",
    "    "
   ]
  },
  {
   "cell_type": "code",
   "execution_count": 21,
   "id": "b928ac04",
   "metadata": {},
   "outputs": [
    {
     "data": {
      "text/plain": [
       "{'sitetype': 'lapdish',\n",
       " 'base_url': 'https://lacity.nextrequest.com',\n",
       " 'folder_id': 'F040-22',\n",
       " 'page_size': 50,\n",
       " 'tally_field': 'total_count',\n",
       " 'json_url': 'https://lacity.nextrequest.com/client/documents?sort_field=count&sort_order=desc&page_size=50&folder_filter=F040-22&page_number='}"
      ]
     },
     "execution_count": 21,
     "metadata": {},
     "output_type": "execute_result"
    }
   ],
   "source": [
    "line"
   ]
  },
  {
   "cell_type": "code",
   "execution_count": null,
   "id": "a66b379b",
   "metadata": {},
   "outputs": [],
   "source": []
  }
 ],
 "metadata": {
  "kernelspec": {
   "display_name": "Python 3 (ipykernel)",
   "language": "python",
   "name": "python3"
  },
  "language_info": {
   "codemirror_mode": {
    "name": "ipython",
    "version": 3
   },
   "file_extension": ".py",
   "mimetype": "text/x-python",
   "name": "python",
   "nbconvert_exporter": "python",
   "pygments_lexer": "ipython3",
   "version": "3.10.6"
  }
 },
 "nbformat": 4,
 "nbformat_minor": 5
}
